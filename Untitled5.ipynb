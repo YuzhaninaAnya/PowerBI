{
  "nbformat": 4,
  "nbformat_minor": 0,
  "metadata": {
    "colab": {
      "name": "Untitled5.ipynb",
      "provenance": []
    },
    "kernelspec": {
      "name": "python3",
      "display_name": "Python 3"
    }
  },
  "cells": [
    {
      "cell_type": "code",
      "metadata": {
        "id": "rKjy8V7SV9Zv",
        "colab_type": "code",
        "colab": {}
      },
      "source": [
        "import pandas as pd"
      ],
      "execution_count": 0,
      "outputs": []
    },
    {
      "cell_type": "code",
      "metadata": {
        "id": "zKYyrmhlWaFz",
        "colab_type": "code",
        "colab": {}
      },
      "source": [
        "df = pd.read_csv('grants.csv')"
      ],
      "execution_count": 0,
      "outputs": []
    },
    {
      "cell_type": "code",
      "metadata": {
        "id": "GwY3yjpQWosz",
        "colab_type": "code",
        "colab": {
          "base_uri": "https://localhost:8080/",
          "height": 221
        },
        "outputId": "23706ce7-ea43-43d0-87dc-5a90668badd7"
      },
      "source": [
        "df.info()"
      ],
      "execution_count": 66,
      "outputs": [
        {
          "output_type": "stream",
          "text": [
            "<class 'pandas.core.frame.DataFrame'>\n",
            "RangeIndex: 1420 entries, 0 to 1419\n",
            "Data columns (total 7 columns):\n",
            "npersons        1413 non-null float64\n",
            "years_in_uni    1420 non-null object\n",
            "oldest_age      1363 non-null float64\n",
            "field           1420 non-null object\n",
            "RFCD.Code.1     1420 non-null int64\n",
            "midpoint        834 non-null float64\n",
            "status          1420 non-null int64\n",
            "dtypes: float64(3), int64(2), object(2)\n",
            "memory usage: 77.8+ KB\n"
          ],
          "name": "stdout"
        }
      ]
    },
    {
      "cell_type": "code",
      "metadata": {
        "id": "VrsKYsi1Egyn",
        "colab_type": "code",
        "colab": {}
      },
      "source": [
        "import scipy.stats as ss\n",
        "import numpy as np\n",
        "\n",
        "def cramers_v(x, y):\n",
        "    confusion_matrix = pd.crosstab(x,y)\n",
        "    chi2 = ss.chi2_contingency(confusion_matrix)[0]\n",
        "    n = confusion_matrix.sum().sum()\n",
        "    phi2 = chi2/n\n",
        "    r,k = confusion_matrix.shape\n",
        "    phi2corr = max(0, phi2-((k-1)*(r-1))/(n-1))\n",
        "    rcorr = r-((r-1)**2)/(n-1)\n",
        "    kcorr = k-((k-1)**2)/(n-1)\n",
        "    return np.sqrt(phi2corr/min((kcorr-1),(rcorr-1)))"
      ],
      "execution_count": 0,
      "outputs": []
    },
    {
      "cell_type": "code",
      "metadata": {
        "id": "KP-_5WLaFqku",
        "colab_type": "code",
        "colab": {
          "base_uri": "https://localhost:8080/",
          "height": 204
        },
        "outputId": "2d6592ad-65c3-4062-ee3d-ff7e91a03dd8"
      },
      "source": [
        "df.head()"
      ],
      "execution_count": 68,
      "outputs": [
        {
          "output_type": "execute_result",
          "data": {
            "text/html": [
              "<div>\n",
              "<style scoped>\n",
              "    .dataframe tbody tr th:only-of-type {\n",
              "        vertical-align: middle;\n",
              "    }\n",
              "\n",
              "    .dataframe tbody tr th {\n",
              "        vertical-align: top;\n",
              "    }\n",
              "\n",
              "    .dataframe thead th {\n",
              "        text-align: right;\n",
              "    }\n",
              "</style>\n",
              "<table border=\"1\" class=\"dataframe\">\n",
              "  <thead>\n",
              "    <tr style=\"text-align: right;\">\n",
              "      <th></th>\n",
              "      <th>npersons</th>\n",
              "      <th>years_in_uni</th>\n",
              "      <th>oldest_age</th>\n",
              "      <th>field</th>\n",
              "      <th>RFCD.Code.1</th>\n",
              "      <th>midpoint</th>\n",
              "      <th>status</th>\n",
              "    </tr>\n",
              "  </thead>\n",
              "  <tbody>\n",
              "    <tr>\n",
              "      <th>0</th>\n",
              "      <td>2.0</td>\n",
              "      <td>&lt; 5</td>\n",
              "      <td>66.0</td>\n",
              "      <td>bio</td>\n",
              "      <td>270799</td>\n",
              "      <td>24999.5</td>\n",
              "      <td>1</td>\n",
              "    </tr>\n",
              "    <tr>\n",
              "      <th>1</th>\n",
              "      <td>1.0</td>\n",
              "      <td>&lt; 5</td>\n",
              "      <td>51.0</td>\n",
              "      <td>bio</td>\n",
              "      <td>270106</td>\n",
              "      <td>24999.5</td>\n",
              "      <td>0</td>\n",
              "    </tr>\n",
              "    <tr>\n",
              "      <th>2</th>\n",
              "      <td>1.0</td>\n",
              "      <td>&lt; 5</td>\n",
              "      <td>36.0</td>\n",
              "      <td>bio</td>\n",
              "      <td>270708</td>\n",
              "      <td>24999.5</td>\n",
              "      <td>0</td>\n",
              "    </tr>\n",
              "    <tr>\n",
              "      <th>3</th>\n",
              "      <td>1.0</td>\n",
              "      <td>5-10</td>\n",
              "      <td>46.0</td>\n",
              "      <td>bio</td>\n",
              "      <td>270603</td>\n",
              "      <td>24999.5</td>\n",
              "      <td>0</td>\n",
              "    </tr>\n",
              "    <tr>\n",
              "      <th>4</th>\n",
              "      <td>4.0</td>\n",
              "      <td>&gt; 10</td>\n",
              "      <td>46.0</td>\n",
              "      <td>physics</td>\n",
              "      <td>240402</td>\n",
              "      <td>24999.5</td>\n",
              "      <td>1</td>\n",
              "    </tr>\n",
              "  </tbody>\n",
              "</table>\n",
              "</div>"
            ],
            "text/plain": [
              "   npersons years_in_uni  oldest_age    field  RFCD.Code.1  midpoint  status\n",
              "0       2.0          < 5        66.0      bio       270799   24999.5       1\n",
              "1       1.0          < 5        51.0      bio       270106   24999.5       0\n",
              "2       1.0          < 5        36.0      bio       270708   24999.5       0\n",
              "3       1.0         5-10        46.0      bio       270603   24999.5       0\n",
              "4       4.0         > 10        46.0  physics       240402   24999.5       1"
            ]
          },
          "metadata": {
            "tags": []
          },
          "execution_count": 68
        }
      ]
    },
    {
      "cell_type": "code",
      "metadata": {
        "id": "6ODTB-PcHJyn",
        "colab_type": "code",
        "colab": {
          "base_uri": "https://localhost:8080/",
          "height": 34
        },
        "outputId": "c4994b51-12d5-420c-8d26-3aa0f2604368"
      },
      "source": [
        "df['midpoint'].unique() "
      ],
      "execution_count": 76,
      "outputs": [
        {
          "output_type": "execute_result",
          "data": {
            "text/plain": [
              "array([ 24999.5,  49999.5, 249999.5, 499999.5])"
            ]
          },
          "metadata": {
            "tags": []
          },
          "execution_count": 76
        }
      ]
    },
    {
      "cell_type": "code",
      "metadata": {
        "id": "iVt9ulrKHgYu",
        "colab_type": "code",
        "colab": {}
      },
      "source": [
        "df['npersons'].fillna(1.0, inplace=True)"
      ],
      "execution_count": 0,
      "outputs": []
    },
    {
      "cell_type": "code",
      "metadata": {
        "id": "DnKH9S4zHpbk",
        "colab_type": "code",
        "colab": {}
      },
      "source": [
        "df['npersons'].fillna('< 5', inplace=True)"
      ],
      "execution_count": 0,
      "outputs": []
    },
    {
      "cell_type": "code",
      "metadata": {
        "id": "tKMlaPCAHzUf",
        "colab_type": "code",
        "colab": {}
      },
      "source": [
        "dict_years = {'< 5': 0, '5-10': 1, '> 10': 2}\n",
        "df['years_in_uni'] = df['years_in_uni'].map(dict_years)"
      ],
      "execution_count": 0,
      "outputs": []
    },
    {
      "cell_type": "code",
      "metadata": {
        "id": "FqScRA87IALo",
        "colab_type": "code",
        "colab": {}
      },
      "source": [
        "df['oldest_age'].fillna(46.0, inplace=True)"
      ],
      "execution_count": 0,
      "outputs": []
    },
    {
      "cell_type": "code",
      "metadata": {
        "id": "wskiry-ZIYo_",
        "colab_type": "code",
        "colab": {}
      },
      "source": [
        "dict_field = {'bio': 0, 'physics': 1, 'chem': 2, 'beh_cog': 3, 'soc': 4}\n",
        "df['field'] = df['field'].map(dict_field)"
      ],
      "execution_count": 0,
      "outputs": []
    },
    {
      "cell_type": "code",
      "metadata": {
        "id": "-YlMYfYVImBm",
        "colab_type": "code",
        "colab": {}
      },
      "source": [
        "df['midpoint'].fillna(24999.5, inplace=True) "
      ],
      "execution_count": 0,
      "outputs": []
    },
    {
      "cell_type": "code",
      "metadata": {
        "id": "IhdOSdPcI1Kz",
        "colab_type": "code",
        "colab": {}
      },
      "source": [
        "dict_midpoint = {24999.5: 0,  49999.5: 1, 249999.5: 2, 499999.5: 3}\n",
        "df['midpoint'] = df['midpoint'].map(dict_midpoint)"
      ],
      "execution_count": 0,
      "outputs": []
    },
    {
      "cell_type": "code",
      "metadata": {
        "id": "jmmOcXGGKUNh",
        "colab_type": "code",
        "colab": {
          "base_uri": "https://localhost:8080/",
          "height": 34
        },
        "outputId": "3630a9ed-5bc6-4599-f7dc-95a40489585a"
      },
      "source": [
        "cramers_v(df['status'], df['midpoint']) "
      ],
      "execution_count": 78,
      "outputs": [
        {
          "output_type": "execute_result",
          "data": {
            "text/plain": [
              "0.282693848129124"
            ]
          },
          "metadata": {
            "tags": []
          },
          "execution_count": 78
        }
      ]
    },
    {
      "cell_type": "code",
      "metadata": {
        "id": "KDSe84u7NjmE",
        "colab_type": "code",
        "colab": {
          "base_uri": "https://localhost:8080/",
          "height": 34
        },
        "outputId": "254bb164-f733-492d-9687-91c506ea26ab"
      },
      "source": [
        "[float('nan')]*7"
      ],
      "execution_count": 82,
      "outputs": [
        {
          "output_type": "execute_result",
          "data": {
            "text/plain": [
              "[nan, nan, nan, nan, nan, nan, nan]"
            ]
          },
          "metadata": {
            "tags": []
          },
          "execution_count": 82
        }
      ]
    },
    {
      "cell_type": "code",
      "metadata": {
        "id": "TVrF7pZkNcZS",
        "colab_type": "code",
        "colab": {
          "base_uri": "https://localhost:8080/",
          "height": 68
        },
        "outputId": "4d3b34eb-fadd-4b84-9a78-6c9f1e6518ee"
      },
      "source": [
        "df.columns"
      ],
      "execution_count": 81,
      "outputs": [
        {
          "output_type": "execute_result",
          "data": {
            "text/plain": [
              "Index(['npersons', 'years_in_uni', 'oldest_age', 'field', 'RFCD.Code.1',\n",
              "       'midpoint', 'status'],\n",
              "      dtype='object')"
            ]
          },
          "metadata": {
            "tags": []
          },
          "execution_count": 81
        }
      ]
    },
    {
      "cell_type": "code",
      "metadata": {
        "id": "_4dXbHbKJxcq",
        "colab_type": "code",
        "colab": {}
      },
      "source": [
        "df_cor=pd.DataFrame({'npersons' : [float('nan')]*7, \n",
        "              'years_in_uni': [float('nan')]*7, \n",
        "              'oldest_age': [float('nan')]*7, \n",
        "              'field': [float('nan')]*7,\n",
        "              'RFCD.Code.1': [float('nan')]*7,\n",
        "              'midpoint': [float('nan')]*7, \n",
        "              'status': [float('nan')]*7}, index=df.columns.tolist())"
      ],
      "execution_count": 0,
      "outputs": []
    },
    {
      "cell_type": "code",
      "metadata": {
        "id": "GwnetqU8N22d",
        "colab_type": "code",
        "colab": {}
      },
      "source": [
        "for col in df_cor.columns.tolist():\n",
        "  for ind in df_cor.index.tolist():\n",
        "    df_cor.loc[ind,col] = cramers_v(df[ind], df[col])"
      ],
      "execution_count": 0,
      "outputs": []
    },
    {
      "cell_type": "code",
      "metadata": {
        "id": "zpNUW6ioOMrB",
        "colab_type": "code",
        "colab": {
          "base_uri": "https://localhost:8080/",
          "height": 325
        },
        "outputId": "b2cec4ba-4585-4676-888f-9fe9e9c946ba"
      },
      "source": [
        "import seaborn as sns\n",
        "ax = sns.heatmap(df_cor)"
      ],
      "execution_count": 87,
      "outputs": [
        {
          "output_type": "display_data",
          "data": {
            "image/png": "[encoded data removed]",
            "text/plain": [
              "<Figure size 432x288 with 2 Axes>"
            ]
          },
          "metadata": {
            "tags": []
          }
        }
      ]
    },
    {
      "cell_type": "code",
      "metadata": {
        "id": "jLbAoVHkOWpj",
        "colab_type": "code",
        "colab": {
          "base_uri": "https://localhost:8080/",
          "height": 266
        },
        "outputId": "7d7eacf5-d62e-4cf7-e761-f8485d91e961"
      },
      "source": [
        "df_cor"
      ],
      "execution_count": 88,
      "outputs": [
        {
          "output_type": "execute_result",
          "data": {
            "text/html": [
              "<div>\n",
              "<style scoped>\n",
              "    .dataframe tbody tr th:only-of-type {\n",
              "        vertical-align: middle;\n",
              "    }\n",
              "\n",
              "    .dataframe tbody tr th {\n",
              "        vertical-align: top;\n",
              "    }\n",
              "\n",
              "    .dataframe thead th {\n",
              "        text-align: right;\n",
              "    }\n",
              "</style>\n",
              "<table border=\"1\" class=\"dataframe\">\n",
              "  <thead>\n",
              "    <tr style=\"text-align: right;\">\n",
              "      <th></th>\n",
              "      <th>npersons</th>\n",
              "      <th>years_in_uni</th>\n",
              "      <th>oldest_age</th>\n",
              "      <th>field</th>\n",
              "      <th>RFCD.Code.1</th>\n",
              "      <th>midpoint</th>\n",
              "      <th>status</th>\n",
              "    </tr>\n",
              "  </thead>\n",
              "  <tbody>\n",
              "    <tr>\n",
              "      <th>npersons</th>\n",
              "      <td>1.000000</td>\n",
              "      <td>0.096485</td>\n",
              "      <td>0.245768</td>\n",
              "      <td>0.120596</td>\n",
              "      <td>0.255225</td>\n",
              "      <td>0.254121</td>\n",
              "      <td>0.064974</td>\n",
              "    </tr>\n",
              "    <tr>\n",
              "      <th>years_in_uni</th>\n",
              "      <td>0.096485</td>\n",
              "      <td>1.000000</td>\n",
              "      <td>0.315882</td>\n",
              "      <td>0.191641</td>\n",
              "      <td>0.353603</td>\n",
              "      <td>0.082899</td>\n",
              "      <td>0.046611</td>\n",
              "    </tr>\n",
              "    <tr>\n",
              "      <th>oldest_age</th>\n",
              "      <td>0.245768</td>\n",
              "      <td>0.315882</td>\n",
              "      <td>1.000000</td>\n",
              "      <td>0.190795</td>\n",
              "      <td>0.196984</td>\n",
              "      <td>0.124736</td>\n",
              "      <td>0.158764</td>\n",
              "    </tr>\n",
              "    <tr>\n",
              "      <th>field</th>\n",
              "      <td>0.120596</td>\n",
              "      <td>0.191641</td>\n",
              "      <td>0.190795</td>\n",
              "      <td>1.000000</td>\n",
              "      <td>0.952215</td>\n",
              "      <td>0.059680</td>\n",
              "      <td>0.053472</td>\n",
              "    </tr>\n",
              "    <tr>\n",
              "      <th>RFCD.Code.1</th>\n",
              "      <td>0.255225</td>\n",
              "      <td>0.353603</td>\n",
              "      <td>0.196984</td>\n",
              "      <td>0.952215</td>\n",
              "      <td>1.000000</td>\n",
              "      <td>0.000000</td>\n",
              "      <td>0.277766</td>\n",
              "    </tr>\n",
              "    <tr>\n",
              "      <th>midpoint</th>\n",
              "      <td>0.254121</td>\n",
              "      <td>0.082899</td>\n",
              "      <td>0.124736</td>\n",
              "      <td>0.059680</td>\n",
              "      <td>0.000000</td>\n",
              "      <td>1.000000</td>\n",
              "      <td>0.282694</td>\n",
              "    </tr>\n",
              "    <tr>\n",
              "      <th>status</th>\n",
              "      <td>0.064974</td>\n",
              "      <td>0.046611</td>\n",
              "      <td>0.158764</td>\n",
              "      <td>0.053472</td>\n",
              "      <td>0.277766</td>\n",
              "      <td>0.282694</td>\n",
              "      <td>0.998587</td>\n",
              "    </tr>\n",
              "  </tbody>\n",
              "</table>\n",
              "</div>"
            ],
            "text/plain": [
              "              npersons  years_in_uni  ...  midpoint    status\n",
              "npersons      1.000000      0.096485  ...  0.254121  0.064974\n",
              "years_in_uni  0.096485      1.000000  ...  0.082899  0.046611\n",
              "oldest_age    0.245768      0.315882  ...  0.124736  0.158764\n",
              "field         0.120596      0.191641  ...  0.059680  0.053472\n",
              "RFCD.Code.1   0.255225      0.353603  ...  0.000000  0.277766\n",
              "midpoint      0.254121      0.082899  ...  1.000000  0.282694\n",
              "status        0.064974      0.046611  ...  0.282694  0.998587\n",
              "\n",
              "[7 rows x 7 columns]"
            ]
          },
          "metadata": {
            "tags": []
          },
          "execution_count": 88
        }
      ]
    }
  ]
}